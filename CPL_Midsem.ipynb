{
 "cells": [
  {
   "cell_type": "code",
   "execution_count": null,
   "id": "5912be19",
   "metadata": {},
   "outputs": [],
   "source": [
    "%run Function_Library.ipynb"
   ]
  },
  {
   "cell_type": "code",
   "execution_count": 30,
   "id": "8086adba",
   "metadata": {},
   "outputs": [
    {
     "name": "stdout",
     "output_type": "stream",
     "text": [
      "\n",
      "From Newton Raphson Method\n",
      "Nearest root of the given function for 5 is x = 4.965114231744276\n",
      "The value of b =344.9453\n"
     ]
    }
   ],
   "source": [
    "#Q1\n",
    "#Kavin.A.S.B(1911085)\n",
    "def h(x):\n",
    "    return (x-5)*math.exp(x)+5\n",
    "\n",
    "eps=10**-6\n",
    "\n",
    "p=1\n",
    "q=10\n",
    "a,b=bracketing(p,q,h)\n",
    "print(\"\\nFrom Newton Raphson Method\")\n",
    "x=5\n",
    "root=newton_raphson(x,h)\n",
    "print(\"Nearest root of the given function for \" + str(x) + \" is x = \"+str(root))\n",
    "#b = kx/hc\n",
    "b = 344.9453\n",
    "print(\"The value of b =\" + str(b))\n",
    "#Kavin.A.S.B(1911085)"
   ]
  },
  {
   "cell_type": "code",
   "execution_count": 36,
   "id": "a160e10f",
   "metadata": {},
   "outputs": [
    {
     "name": "stdout",
     "output_type": "stream",
     "text": [
      "The augmented matrix is: \n",
      "\n",
      "0    0    0    2    1    0    0    0    \n",
      "\n",
      "0    0    3    0    0    1    0    0    \n",
      "\n",
      "0    4    0    0    0    0    1    0    \n",
      "\n",
      "5    0    0    0    0    0    0    1    \n",
      "\n",
      "\n"
     ]
    },
    {
     "ename": "TypeError",
     "evalue": "'int' object is not subscriptable",
     "output_type": "error",
     "traceback": [
      "\u001b[0;31m---------------------------------------------------------------------------\u001b[0m",
      "\u001b[0;31mTypeError\u001b[0m                                 Traceback (most recent call last)",
      "\u001b[0;32m<ipython-input-36-5deb19ca9f8f>\u001b[0m in \u001b[0;36m<module>\u001b[0;34m\u001b[0m\n\u001b[1;32m      3\u001b[0m \u001b[0mprint\u001b[0m\u001b[0;34m(\u001b[0m\u001b[0;34m\"The augmented matrix is: \"\u001b[0m\u001b[0;34m)\u001b[0m\u001b[0;34m\u001b[0m\u001b[0;34m\u001b[0m\u001b[0m\n\u001b[1;32m      4\u001b[0m \u001b[0mprint_matrix\u001b[0m\u001b[0;34m(\u001b[0m\u001b[0mC\u001b[0m\u001b[0;34m,\u001b[0m\u001b[0;36m4\u001b[0m\u001b[0;34m,\u001b[0m\u001b[0;36m8\u001b[0m\u001b[0;34m)\u001b[0m\u001b[0;34m\u001b[0m\u001b[0;34m\u001b[0m\u001b[0m\n\u001b[0;32m----> 5\u001b[0;31m \u001b[0mGJ\u001b[0m\u001b[0;34m,\u001b[0m \u001b[0md\u001b[0m\u001b[0;34m=\u001b[0m\u001b[0mgauss_jordan\u001b[0m\u001b[0;34m(\u001b[0m\u001b[0mC\u001b[0m\u001b[0;34m,\u001b[0m\u001b[0;36m4\u001b[0m\u001b[0;34m,\u001b[0m\u001b[0;36m8\u001b[0m\u001b[0;34m)\u001b[0m\u001b[0;34m\u001b[0m\u001b[0;34m\u001b[0m\u001b[0m\n\u001b[0m\u001b[1;32m      6\u001b[0m \u001b[0;32mif\u001b[0m \u001b[0mGJ\u001b[0m\u001b[0;34m!=\u001b[0m\u001b[0;32mNone\u001b[0m\u001b[0;34m:\u001b[0m\u001b[0;34m\u001b[0m\u001b[0;34m\u001b[0m\u001b[0m\n\u001b[1;32m      7\u001b[0m     \u001b[0mM\u001b[0m\u001b[0;34m=\u001b[0m\u001b[0mget_inv\u001b[0m\u001b[0;34m(\u001b[0m\u001b[0mC\u001b[0m\u001b[0;34m,\u001b[0m\u001b[0;36m4\u001b[0m\u001b[0;34m)\u001b[0m\u001b[0;34m\u001b[0m\u001b[0;34m\u001b[0m\u001b[0m\n",
      "\u001b[0;32m<ipython-input-4-6c373844fedc>\u001b[0m in \u001b[0;36mgauss_jordan\u001b[0;34m(Ab, nrows, ncols)\u001b[0m\n\u001b[1;32m     53\u001b[0m                 \u001b[0;31m# does partial pivoting\u001b[0m\u001b[0;34m\u001b[0m\u001b[0;34m\u001b[0m\u001b[0;34m\u001b[0m\u001b[0m\n\u001b[1;32m     54\u001b[0m                 \u001b[0mAb\u001b[0m \u001b[0;34m=\u001b[0m \u001b[0mpartial_pivot\u001b[0m\u001b[0;34m(\u001b[0m\u001b[0mAb\u001b[0m\u001b[0;34m,\u001b[0m\u001b[0mr\u001b[0m\u001b[0;34m,\u001b[0m\u001b[0mnrows\u001b[0m\u001b[0;34m)\u001b[0m\u001b[0;34m\u001b[0m\u001b[0;34m\u001b[0m\u001b[0m\n\u001b[0;32m---> 55\u001b[0;31m             \u001b[0mfact\u001b[0m\u001b[0;34m=\u001b[0m\u001b[0mAb\u001b[0m\u001b[0;34m[\u001b[0m\u001b[0mr\u001b[0m\u001b[0;34m]\u001b[0m\u001b[0;34m[\u001b[0m\u001b[0mr\u001b[0m\u001b[0;34m]\u001b[0m\u001b[0;34m\u001b[0m\u001b[0;34m\u001b[0m\u001b[0m\n\u001b[0m\u001b[1;32m     56\u001b[0m             \u001b[0mdet\u001b[0m\u001b[0;34m=\u001b[0m\u001b[0mdet\u001b[0m\u001b[0;34m*\u001b[0m\u001b[0mfact\u001b[0m \u001b[0;31m# calculates the determinant\u001b[0m\u001b[0;34m\u001b[0m\u001b[0;34m\u001b[0m\u001b[0m\n\u001b[1;32m     57\u001b[0m             \u001b[0;32mfor\u001b[0m \u001b[0mc\u001b[0m \u001b[0;32min\u001b[0m \u001b[0mrange\u001b[0m\u001b[0;34m(\u001b[0m\u001b[0mr\u001b[0m\u001b[0;34m,\u001b[0m\u001b[0mncols\u001b[0m\u001b[0;34m)\u001b[0m\u001b[0;34m:\u001b[0m\u001b[0;34m\u001b[0m\u001b[0;34m\u001b[0m\u001b[0m\n",
      "\u001b[0;31mTypeError\u001b[0m: 'int' object is not subscriptable"
     ]
    }
   ],
   "source": [
    "#Kavin.A.S.B(1911085)\n",
    "A = [[0,0,0,2],[0,0,3,0],[0,4,0,0],[5,0,0,0]]\n",
    "C = [[0,0,0,2,1,0,0,0],[0,0,3,0,0,1,0,0],[0,4,0,0,0,0,1,0],[5,0,0,0,0,0,0,1]]    # augmented matrix\n",
    "print(\"The augmented matrix is: \")\n",
    "print_matrix(C,4,8)\n",
    "GJ, d=gauss_jordan(C,4,8)\n",
    "if GJ!=None:\n",
    "    M=get_inv(C,4)  \n",
    "    M=round_matrix(M,2)\n",
    "    print(\"The inverse matrix is: \")\n",
    "    print_matrix(M,4,4)   \n",
    "else:\n",
    "    print(\"No unique solution exists.\")\n",
    "#Kavin.A.S.B(1911085)"
   ]
  },
  {
   "cell_type": "code",
   "execution_count": 35,
   "id": "82e75edb",
   "metadata": {},
   "outputs": [
    {
     "name": "stdout",
     "output_type": "stream",
     "text": [
      "The matrix is: \n",
      "\n",
      "3.0    -7.0    -2.0    2.0    \n",
      "\n",
      "-3.0    5.0    1.0    0.0    \n",
      "\n",
      "6.0    -4.0    0.0    -5.0    \n",
      "\n",
      "-9.0    5.0    -5.0    12.0    \n",
      "\n",
      "\n",
      "The transformed LU matrix is \n",
      "\n",
      "3.0    -7.0    -2.0    2.0    \n",
      "\n",
      "-1.0    -2.0    -1.0    2.0    \n",
      "\n",
      "-3.0    8.0    -3.0    2.0    \n",
      "\n",
      "2.0    -5.0    0.3333333333333333    0.33333333333333304    \n",
      "\n",
      "\n",
      "Solutions are : \n",
      "x[0] = 3.0\n",
      "x[1] = 4.0\n",
      "x[2] = -6.0\n",
      "x[3] = -1.0\n"
     ]
    }
   ],
   "source": [
    "#Q3\n",
    "#Kavin.A.S.B(1911085)\n",
    "# LU decomposition using Doolittle's condition L[i][i]=1\n",
    "\n",
    "\n",
    "print(\"The matrix is: \")\n",
    "A,r,c = read_matrix('A.txt')\n",
    "print_matrix(A,r,c)\n",
    "\n",
    "vect=[-9,5,7,11]\n",
    "\n",
    "# partial pivoting \n",
    "A, vector = partial_pivot_LU(A, vect, r)\n",
    "A = LU_doolittle(A,r)\n",
    "print(\"The transformed LU matrix is \")\n",
    "print_matrix(A,r,r)\n",
    "\n",
    "x = [0 for i in range(r)]\n",
    "\n",
    "x = for_back_subs_doolittle(A,r,vect)\n",
    "\n",
    "print(\"Solutions are : \")\n",
    "for i in range(r):\n",
    "    print(\"x[\"+str(i)+\"] = \"+str(x[i]))\n",
    "    \n",
    "\n",
    "\n",
    "#Kavin.A.S.B(1911085)"
   ]
  },
  {
   "cell_type": "code",
   "execution_count": 14,
   "id": "6264df88",
   "metadata": {},
   "outputs": [
    {
     "name": "stdout",
     "output_type": "stream",
     "text": [
      "\n",
      "From Bisection Method\n",
      "Root of the function in the interval (0,1) = 0.3705587387084961\n",
      "\n",
      "From Regular Falsi Method\n",
      "Root of the function in the interval (0,1) = 0.3705584003334566\n"
     ]
    }
   ],
   "source": [
    "#Q4\n",
    "#Kavin.A.S.B(1911085)\n",
    "def f(x):\n",
    "    return 4*math.sin(x)*math.exp(-x)-1\n",
    "\n",
    "eps=10**-6\n",
    "\n",
    "p=0\n",
    "q=1\n",
    "a,b=bracketing(p,q,f)\n",
    "\n",
    "print(\"\\nFrom Bisection Method\")\n",
    "root=bisection(a,b,f)\n",
    "if p==a and q==b:\n",
    "    print(\"Root of the function in the interval (\" + str(p) + \",\" + str(q) + \") = \"+str(root))\n",
    "else:\n",
    "    print(\"Root does not lie in the given range (\" + str(p) + \",\" + str(q)+\")\")\n",
    "    print(\"We change the interval to (\" + str(a) + \",\" + str(b)+\")\")\n",
    "    print(\"Root of the given function in the interval (\" + str(a) + \",\" + str(b) + \") is \"+str(root))\n",
    "\n",
    "print(\"\\nFrom Regular Falsi Method\")\n",
    "root=regula_falsi(a,b,f)\n",
    "if p==a and q==b:\n",
    "    print(\"Root of the function in the interval (\" + str(p) + \",\" + str(q) + \") = \"+str(root))\n",
    "else:\n",
    "    print(\"Root does not lie in the given range (\" + str(p) + \",\" + str(q)+\")\")\n",
    "    print(\"We change the interval to (\" + str(a) + \",\" + str(b)+\")\")\n",
    "    print(\"Root of the given function in the interval (\" + str(a) + \",\" + str(b) + \") is \"+str(root))\n",
    "#Kavin.A.S.B(1911085)"
   ]
  },
  {
   "cell_type": "code",
   "execution_count": 16,
   "id": "7ae5d2ac",
   "metadata": {},
   "outputs": [
    {
     "name": "stdout",
     "output_type": "stream",
     "text": [
      "\n",
      "BISECTION METHOD\n",
      "               0\n",
      "1  -2.292864e-01\n",
      "2   6.940729e-03\n",
      "3  -1.002927e-01\n",
      "4  -4.406794e-02\n",
      "5  -1.792540e-02\n",
      "6  -5.334495e-03\n",
      "7   8.423635e-04\n",
      "8  -2.236228e-03\n",
      "9  -6.944759e-04\n",
      "10  7.455742e-05\n",
      "11 -3.098058e-04\n",
      "12 -1.175858e-04\n",
      "13 -2.150461e-05\n",
      "14  2.652880e-05\n",
      "15  2.512695e-06\n",
      "16 -9.495808e-06\n",
      "17 -3.491519e-06\n",
      "18 -4.894027e-07\n",
      "19  1.011648e-06\n",
      "\n",
      "\n",
      "REGULA FALSI METHOD\n",
      "               0\n",
      "1   2.889616e-01\n",
      "2   2.534652e-01\n",
      "3   1.630040e-01\n",
      "4   8.445109e-02\n",
      "5   3.886823e-02\n",
      "6   1.691148e-02\n",
      "7   7.177851e-03\n",
      "8   3.014426e-03\n",
      "9   1.260307e-03\n",
      "10  5.259410e-04\n",
      "11  2.193102e-04\n",
      "12  9.141959e-05\n",
      "13  3.810315e-05\n",
      "14  1.588027e-05\n",
      "15  6.618275e-06\n",
      "16  2.758210e-06\n",
      "17  1.149498e-06\n",
      "18  4.790581e-07\n"
     ]
    },
    {
     "data": {
      "image/png": "[encoded data removed]",
      "text/plain": [
       "<Figure size 648x432 with 1 Axes>"
      ]
     },
     "metadata": {
      "needs_background": "light"
     },
     "output_type": "display_data"
    }
   ],
   "source": [
    "#Kavin.A.S.B(1911085)\n",
    "import math\n",
    "import matplotlib.pyplot as plt\n",
    "\n",
    "plt.figure(figsize=(9,6))\n",
    "p=0\n",
    "q=1\n",
    "a,b=bracketing(p,q,f)\n",
    "x_bis, y_bis =bisection_for_plotting(a,b,f)\n",
    "x_rf, y_rf =regula_falsi_for_plotting(a,b,f)\n",
    "\n",
    "print(\"\\nBISECTION METHOD\")\n",
    "a=pd.DataFrame(y_bis,x_bis)\n",
    "print(a)\n",
    "print(\"\\n\\nREGULA FALSI METHOD\")\n",
    "b=pd.DataFrame(y_rf,x_rf)\n",
    "print(b)\n",
    "\n",
    "plt.plot(x_bis, y_bis, 'r-o', label='Bisection')\n",
    "plt.plot(x_rf, y_rf, 'g-o', label='Regula Falsi')\n",
    "\n",
    "plt.grid(color='b', ls = '-.', lw = 0.5)\n",
    "plt.xlabel('No. of terms in taylor expansion')\n",
    "plt.ylabel('Error')\n",
    "plt.title('Error vs No. of terms curve')\n",
    "plt.legend()\n",
    "plt.show()\n",
    "#Kavin.A.S.B(1911085)"
   ]
  },
  {
   "cell_type": "code",
   "execution_count": null,
   "id": "894e4601",
   "metadata": {},
   "outputs": [],
   "source": []
  }
 ],
 "metadata": {
  "kernelspec": {
   "display_name": "Python 3",
   "language": "python",
   "name": "python3"
  },
  "language_info": {
   "codemirror_mode": {
    "name": "ipython",
    "version": 3
   },
   "file_extension": ".py",
   "mimetype": "text/x-python",
   "name": "python",
   "nbconvert_exporter": "python",
   "pygments_lexer": "ipython3",
   "version": "3.8.8"
  }
 },
 "nbformat": 4,
 "nbformat_minor": 5
}
